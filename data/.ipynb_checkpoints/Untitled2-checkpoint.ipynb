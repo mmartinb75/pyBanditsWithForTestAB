{
 "cells": [
  {
   "cell_type": "code",
   "execution_count": 1,
   "metadata": {},
   "outputs": [],
   "source": [
    "import numpy as np\n",
    "import random as rand\n",
    "import pandas as pd\n",
    "import altair as alt"
   ]
  },
  {
   "cell_type": "code",
   "execution_count": 33,
   "metadata": {},
   "outputs": [
    {
     "name": "stdout",
     "output_type": "stream",
     "text": [
      "16.964858619236086\n",
      "19.9994072315538\n",
      "126.10444508333343\n",
      "25.053223303433242\n",
      "20.953194223018635\n",
      "19.915323378359055\n",
      "15.200352685026429\n"
     ]
    }
   ],
   "source": [
    "regret_pr3 = np.load(\"PossibilisticReward_Bern1_12-navigation_time_two_arms_wsize0_seed_1_low_traffic_last_regrets_sampling_beta.npy\")\n",
    "regret_pr2 = np.load(\"PossibilisticReward_chernoff2_12-navigation_time_two_arms_wsize0_seed_1_low_traffic_last_regrets_sampling_beta.npy\")\n",
    "regret_egreedy = np.load(\"Egreedy_12-navigation_time_two_arms_wsize1_seed_1_low_traffic_last_regrets_sampling_beta.npy\")\n",
    "regret_beta_PM_1 = np.load(\"ProbabilityMatching_12-navigation_time_two_arms_wsize1_seed_1.0_low_traffic_last_regrets_sampling_beta.npy\")\n",
    "regret_beta_PM_12 = np.load(\"ProbabilityMatching_12-navigation_time_two_arms_wsize12_seed_1_low_traffic_last_regrets_sampling_beta.npy\")\n",
    "regret_AB = np.load(\"TestAB_12-navigation_time_two_arms_wsize0_seed_1_low_traffic_last_regrets_sampling_beta.npy\")\n",
    "regret_beta_PR2_2 = np.load(\"PossibilisticReward_Bern1_12-navigation_time_two_arms_wsize0_seed_1_low_traffic_last_regrets_sampling_beta_PR3.npy\")\n",
    "print(np.mean(regret_pr3))\n",
    "print(np.mean(regret_pr2))\n",
    "print(np.mean(regret_egreedy))\n",
    "print(np.mean(regret_beta_PM_1))\n",
    "print(np.mean(regret_beta_PM_12))\n",
    "print(np.mean(regret_AB))\n",
    "print(np.mean(regret_beta_PR2_2))"
   ]
  },
  {
   "cell_type": "code",
   "execution_count": 28,
   "metadata": {},
   "outputs": [
    {
     "name": "stdout",
     "output_type": "stream",
     "text": [
      "18.756974176882878\n",
      "13.952899698821307\n",
      "1.091835108650324\n",
      "34.10290487639612\n",
      "32.220430551136886\n",
      "7.130812744081869\n",
      "0.010000000000000002\n"
     ]
    }
   ],
   "source": [
    "regret_pr3 = np.load(\"PossibilisticReward_Bern1_2-navigation_time_two_arms_wsize0_seed_1_low_traffic_last_regrets_sampling_beta_PR3.npy\")\n",
    "regret_pr2 = np.load(\"PossibilisticReward_chernoff2_2-navigation_time_two_arms_wsize0_seed_1_low_traffic_last_regrets_sampling_beta_PR3.npy\")\n",
    "regret_egreedy = np.load(\"Egreedy_2-navigation_time_two_arms_wsize1_seed_1_low_traffic_last_regrets_sampling_beta_PR3.npy\")\n",
    "regret_beta_PM_1 = np.load(\"ProbabilityMatching_2-navigation_time_two_arms_wsize1_seed_1.0_low_traffic_last_regrets_sampling_beta_PR3.npy\")\n",
    "regret_beta_PM_12 = np.load(\"ProbabilityMatching_2-navigation_time_two_arms_wsize12_seed_1_low_traffic_last_regrets_sampling_beta_PR3.npy\")\n",
    "regret_AB = np.load(\"TestAB_2-navigation_time_two_arms_wsize0_seed_1_low_traffic_last_regrets_sampling_beta_PR3.npy\")\n",
    "regret_beta_PR2_2 = np.load(\"PossibilisticReward_chernoff2_2-conversion_rate_two_arms_wsize0_seed_1_low_traffic_last_regrets_sampling_beta_PR3.npy\")\n",
    "print(np.mean(regret_pr3))\n",
    "print(np.mean(regret_pr2))\n",
    "print(np.mean(regret_egreedy))\n",
    "print(np.mean(regret_beta_PM_1))\n",
    "print(np.mean(regret_beta_PM_12))\n",
    "print(np.mean(regret_AB))\n",
    "print(np.mean(regret_beta_PR2_2))"
   ]
  },
  {
   "cell_type": "code",
   "execution_count": 24,
   "metadata": {},
   "outputs": [
    {
     "name": "stdout",
     "output_type": "stream",
     "text": [
      "[ 5.56  7.39  6.7  27.88  3.9   1.03  3.3   5.58 20.4   1.69 41.27 19.01]\n",
      "[10.98  1.37  8.9  31.76 17.84  5.17  8.44  2.7  19.29 16.46 20.35  5.47]\n",
      "[23.13  0.42  1.07  5.68  0.46  3.71  2.96 16.32 23.06  1.12  0.56  2.89]\n",
      "11.975833333333503\n",
      "12.394166666666829\n",
      "6.78166666666677\n"
     ]
    }
   ],
   "source": [
    "regret_beta_TS = np.load(\"ProbabilityMatching_12-conversion_rate_two_arms_wsize12_seed_1_low_traffic_last_regrets_sampling_beta.npy\")\n",
    "regret_beta_TS2 = np.load(\"ProbabilityMatching_12-conversion_rate_two_arms_wsize1_seed_1.0_low_traffic_last_regrets_sampling_beta.npy\")\n",
    "regret_beta_TS3 = np.load(\"PossibilisticReward_chernoff2_12-conversion_rate_two_arms_wsize0_seed_1_low_traffic_last_regrets_sampling_beta.npy\")\n",
    "print(regret_beta_TS)\n",
    "print(regret_beta_TS2)\n",
    "print(regret_beta_TS3)\n",
    "print(np.mean(regret_beta_TS))\n",
    "print(np.mean(regret_beta_TS2))\n",
    "print(np.mean(regret_beta_TS3))"
   ]
  },
  {
   "cell_type": "code",
   "execution_count": 18,
   "metadata": {},
   "outputs": [],
   "source": [
    "events_beta_ab = np.load(\"TestAB_2-conversion_rate_two_arms_wsize0_seed_1_low_traffic_num_events_sampling_beta.npy\")\n",
    "events_beta_TS = np.load(\"ProbabilityMatching_2-conversion_rate_two_arms_wsize12_low_traffic_num_events_sampling_beta.npy\")\n",
    "\n",
    "regret_beta_ab = np.load(\"TestAB_2-conversion_rate_two_arms_wsize0_seed_1_low_traffic_num_events_sampling_beta.npy\")\n",
    "regret_beta_TS = np.load(\"ProbabilityMatching_2-conversion_rate_two_arms_wsize12_low_traffic_num_events_sampling_beta.npy\")\n",
    "regret_beta_TS2 = np.load(\"ProbabilityMatching_2-conversion_rate_two_arms_wsize1_seed_1_low_traffic_num_events_sampling_beta.npy\")\n",
    "regret_beta_Egreedy = np.load(\"Egreedy_2-conversion_rate_two_arms_wsize1_seed_1_low_traffic_num_events_empirical_bernstain.npy\")\n",
    "regret_beta_PR2 = np.load(\"PossibilisticReward_chernoff2_2-conversion_rate_two_arms_wsize0_seed_1_low_traffic_num_events_sampling_beta.npy\")\n",
    "regret_beta_PR2_2 = np.load(\"PossibilisticReward_chernoff2_2-conversion_rate_two_arms_wsize0_seed_1_low_traffic_num_events_pr2.npy\")"
   ]
  },
  {
   "cell_type": "code",
   "execution_count": 19,
   "metadata": {},
   "outputs": [
    {
     "name": "stdout",
     "output_type": "stream",
     "text": [
      "[3400  350]\n",
      "[1650 1950]\n",
      "[2300  450]\n",
      "[35860 18870]\n",
      "[6300  250]\n",
      "[51620  3700]\n"
     ]
    }
   ],
   "source": [
    "\n",
    "print(regret_beta_ab)\n",
    "print(regret_beta_TS)\n",
    "\n",
    "print(regret_beta_TS2)\n",
    "print(regret_beta_Egreedy)\n",
    "print(regret_beta_PR2)\n",
    "print(regret_beta_PR2_2)"
   ]
  },
  {
   "cell_type": "code",
   "execution_count": 7,
   "metadata": {},
   "outputs": [],
   "source": [
    "nbPulls_beta_ab = np.load(\"TestAB_2-conversion_rate_two_arms_wsize0_seed_1_low_traffic_nbPulls_sampling_beta.npy\")\n",
    "nbPulls_beta_TS = np.load(\"ProbabilityMatching_2-conversion_rate_two_arms_wsize12_low_traffic_nbPulls_sampling_beta.npy\")"
   ]
  },
  {
   "cell_type": "code",
   "execution_count": 10,
   "metadata": {},
   "outputs": [
    {
     "name": "stdout",
     "output_type": "stream",
     "text": [
      "[[1695. 1705.]\n",
      " [ 181.  169.]]\n",
      "[[1094.  556.]\n",
      " [1617.  333.]]\n"
     ]
    }
   ],
   "source": [
    "print(nbPulls_beta_ab)\n",
    "print(nbPulls_beta_TS)"
   ]
  },
  {
   "cell_type": "code",
   "execution_count": 14,
   "metadata": {},
   "outputs": [
    {
     "data": {
      "text/plain": [
       "0.7330246913580248"
      ]
     },
     "execution_count": 14,
     "metadata": {},
     "output_type": "execute_result"
    }
   ],
   "source": [
    "7600.*250/3600./24/30"
   ]
  },
  {
   "cell_type": "code",
   "execution_count": null,
   "metadata": {},
   "outputs": [],
   "source": []
  }
 ],
 "metadata": {
  "kernelspec": {
   "display_name": "Python 2",
   "language": "python",
   "name": "python2"
  },
  "language_info": {
   "codemirror_mode": {
    "name": "ipython",
    "version": 2
   },
   "file_extension": ".py",
   "mimetype": "text/x-python",
   "name": "python",
   "nbconvert_exporter": "python",
   "pygments_lexer": "ipython2",
   "version": "2.7.15"
  }
 },
 "nbformat": 4,
 "nbformat_minor": 2
}
